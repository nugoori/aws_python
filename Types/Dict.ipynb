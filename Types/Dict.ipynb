{
 "cells": [
  {
   "cell_type": "code",
   "execution_count": 2,
   "id": "219d9ed7",
   "metadata": {},
   "outputs": [
    {
     "ename": "TypeError",
     "evalue": "descriptor 'get' for 'dict' objects doesn't apply to a 'int' object",
     "output_type": "error",
     "traceback": [
      "\u001b[1;31m---------------------------------------------------------------------------\u001b[0m",
      "\u001b[1;31mTypeError\u001b[0m                                 Traceback (most recent call last)",
      "Cell \u001b[1;32mIn[2], line 2\u001b[0m\n\u001b[0;32m      1\u001b[0m v1 \u001b[38;5;241m=\u001b[39m \u001b[38;5;28mdict\u001b[39m[\u001b[38;5;241m1\u001b[39m]\n\u001b[1;32m----> 2\u001b[0m v2 \u001b[38;5;241m=\u001b[39m \u001b[38;5;28mdict\u001b[39m\u001b[38;5;241m.\u001b[39mget(\u001b[38;5;241m1\u001b[39m)\n\u001b[0;32m      4\u001b[0m \u001b[38;5;28mprint\u001b[39m(v1)\n\u001b[0;32m      5\u001b[0m \u001b[38;5;28mprint\u001b[39m(v2)\n",
      "\u001b[1;31mTypeError\u001b[0m: descriptor 'get' for 'dict' objects doesn't apply to a 'int' object"
     ]
    }
   ],
   "source": [
    "v1 = dict[1]\n",
    "v2 = dict.get(1) #오류를 반환하고 싶으면 이렇게\n",
    "\n",
    "print(v1)\n",
    "print(v2)"
   ]
  },
  {
   "cell_type": "code",
   "execution_count": 4,
   "id": "9132ecd7",
   "metadata": {},
   "outputs": [],
   "source": [
    "a = 10"
   ]
  },
  {
   "cell_type": "code",
   "execution_count": 5,
   "id": "f1d27ac5",
   "metadata": {},
   "outputs": [],
   "source": [
    "a = eval('a+2') #문자열을 실행문으로 바꿈"
   ]
  },
  {
   "cell_type": "code",
   "execution_count": 6,
   "id": "e77a7ce5",
   "metadata": {
    "scrolled": true
   },
   "outputs": [
    {
     "name": "stdout",
     "output_type": "stream",
     "text": [
      "12\n"
     ]
    }
   ],
   "source": [
    "print(a)"
   ]
  },
  {
   "cell_type": "code",
   "execution_count": 8,
   "id": "1de8bd81",
   "metadata": {},
   "outputs": [],
   "source": [
    "import json"
   ]
  },
  {
   "cell_type": "code",
   "execution_count": 18,
   "id": "445a56bc",
   "metadata": {},
   "outputs": [
    {
     "name": "stdout",
     "output_type": "stream",
     "text": [
      "{'userId': 1, 'username': 'aaa', 'password': '1234', 'name': '김준일', 'email': 'aaa@gmail.com'}\n",
      "{\"userId\": 1, \"username\": \"aaa\", \"password\": \"1234\", \"name\": \"\\uae40\\uc900\\uc77c\", \"email\": \"aaa@gmail.com\"}\n",
      "{'userId': 1, 'username': 'aaa', 'password': '1234', 'name': '김준일', 'email': 'aaa@gmail.com'}\n",
      "김준일\n",
      "김준일\n"
     ]
    }
   ],
   "source": [
    "user = {\n",
    "    \"userId\": 1,\n",
    "    \"username\": \"aaa\",\n",
    "    \"password\": \"1234\",\n",
    "    \"name\": \"김준일\",\n",
    "    \"email\": \"aaa@gmail.com\"\n",
    "}\n",
    "print(user)\n",
    "\n",
    "userJson = json.dumps(user)\n",
    "print(userJson)\n",
    "\n",
    "newUser = json.loads(userJson)\n",
    "print(newUser)\n",
    "\n",
    "print(newUser.get(\"name\"))\n",
    "\n",
    "newUser2 = eval(userJson)\n",
    "print(newUser2.get(\"name\"))"
   ]
  }
 ],
 "metadata": {
  "kernelspec": {
   "display_name": "Python 3 (ipykernel)",
   "language": "python",
   "name": "python3"
  },
  "language_info": {
   "codemirror_mode": {
    "name": "ipython",
    "version": 3
   },
   "file_extension": ".py",
   "mimetype": "text/x-python",
   "name": "python",
   "nbconvert_exporter": "python",
   "pygments_lexer": "ipython3",
   "version": "3.11.4"
  }
 },
 "nbformat": 4,
 "nbformat_minor": 5
}
