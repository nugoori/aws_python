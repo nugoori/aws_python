{
 "cells": [
  {
   "cell_type": "code",
   "execution_count": 1,
   "id": "9f4f8265",
   "metadata": {},
   "outputs": [],
   "source": [
    "list = [1,2,3,4,5,6, [\"김준일\", \"김준이\", [True, False], [1.1, 2.2, 3.3] ] ]"
   ]
  },
  {
   "cell_type": "code",
   "execution_count": 2,
   "id": "d4774314",
   "metadata": {},
   "outputs": [
    {
     "name": "stdout",
     "output_type": "stream",
     "text": [
      "[1, 2, 3, 4, 5, 6, ['김준일', '김준이', [True, False], [1.1, 2.2, 3.3]]]\n"
     ]
    }
   ],
   "source": [
    "print(list)"
   ]
  },
  {
   "cell_type": "code",
   "execution_count": 8,
   "id": "09b7cdba",
   "metadata": {},
   "outputs": [
    {
     "name": "stdout",
     "output_type": "stream",
     "text": [
      "[False]\n"
     ]
    }
   ],
   "source": [
    "print(list[-1][-2][1:])"
   ]
  },
  {
   "cell_type": "code",
   "execution_count": 14,
   "id": "9c506bd4",
   "metadata": {},
   "outputs": [
    {
     "name": "stdout",
     "output_type": "stream",
     "text": [
      "[1, 2, 3, 4, 5, 6, 7, 8]\n",
      "[1, 2, 3, 4, 5, 6, 7, 8]\n",
      "[1, 2, 3, 4, 5, 6, 7, 8, 1, 2, 3, 4, 5, 6, 7, 8]\n"
     ]
    }
   ],
   "source": [
    "list = [1, 2, 3, 4]\n",
    "list2 = [5, 6, 7, 8]\n",
    "\n",
    "print(list + list2)\n",
    "\n",
    "list.extend(list2) \n",
    "# extend = ' += '\n",
    "print(list)\n",
    "\n",
    "print(list *2)"
   ]
  },
  {
   "cell_type": "code",
   "execution_count": 17,
   "id": "2b54fab5",
   "metadata": {},
   "outputs": [
    {
     "name": "stdout",
     "output_type": "stream",
     "text": [
      "(1, 2, 3)\n",
      "1 1\n"
     ]
    }
   ],
   "source": [
    "t = (1, 2, 3)\n",
    "print(t)\n",
    "t = ()\n",
    "t = (1, )\n",
    "# 튜플안의 값이 하나일 경우 값 뒤에 무조건 , 를 표기하여야 한다 안그럼 연산을 위한 값인지 튜플 내의 값인지 구분 불가능\n",
    "list = [1]\n",
    "print(t[0], list[0])"
   ]
  }
 ],
 "metadata": {
  "kernelspec": {
   "display_name": "Python 3 (ipykernel)",
   "language": "python",
   "name": "python3"
  },
  "language_info": {
   "codemirror_mode": {
    "name": "ipython",
    "version": 3
   },
   "file_extension": ".py",
   "mimetype": "text/x-python",
   "name": "python",
   "nbconvert_exporter": "python",
   "pygments_lexer": "ipython3",
   "version": "3.11.4"
  }
 },
 "nbformat": 4,
 "nbformat_minor": 5
}
