{
 "cells": [
  {
   "cell_type": "code",
   "execution_count": 1,
   "id": "381759aa",
   "metadata": {},
   "outputs": [],
   "source": [
    "str = \"'name'\""
   ]
  },
  {
   "cell_type": "code",
   "execution_count": 2,
   "id": "ed5572a8",
   "metadata": {},
   "outputs": [
    {
     "name": "stdout",
     "output_type": "stream",
     "text": [
      "'name'\n"
     ]
    }
   ],
   "source": [
    "print(str)"
   ]
  },
  {
   "cell_type": "code",
   "execution_count": 4,
   "id": "a286f4ec",
   "metadata": {},
   "outputs": [
    {
     "name": "stdout",
     "output_type": "stream",
     "text": [
      "'aaa', \"aaa\"\n"
     ]
    }
   ],
   "source": [
    "print(\"'aaa', \\\"aaa\\\"\")"
   ]
  },
  {
   "cell_type": "code",
   "execution_count": 5,
   "id": "f405b484",
   "metadata": {},
   "outputs": [
    {
     "name": "stdout",
     "output_type": "stream",
     "text": [
      "\"bbb\". 'bbb'\n"
     ]
    }
   ],
   "source": [
    "print('\"bbb\". \\'bbb\\'')"
   ]
  },
  {
   "cell_type": "code",
   "execution_count": 12,
   "id": "07d57983",
   "metadata": {},
   "outputs": [],
   "source": [
    "a = 'abc'"
   ]
  },
  {
   "cell_type": "code",
   "execution_count": 13,
   "id": "8ecb4357",
   "metadata": {},
   "outputs": [
    {
     "name": "stdout",
     "output_type": "stream",
     "text": [
      "abcabcabcabcabcabcabcabcabcabc\n"
     ]
    }
   ],
   "source": [
    "print(a * 10)"
   ]
  },
  {
   "cell_type": "code",
   "execution_count": 14,
   "id": "8a778126",
   "metadata": {},
   "outputs": [],
   "source": [
    "address = '부산 동래구 중앙대로 1254길'"
   ]
  },
  {
   "cell_type": "code",
   "execution_count": 15,
   "id": "d2f5902a",
   "metadata": {},
   "outputs": [
    {
     "name": "stdout",
     "output_type": "stream",
     "text": [
      "17\n"
     ]
    }
   ],
   "source": [
    "print(len(address))"
   ]
  },
  {
   "cell_type": "code",
   "execution_count": 44,
   "id": "2436092e",
   "metadata": {},
   "outputs": [
    {
     "name": "stdout",
     "output_type": "stream",
     "text": [
      "동래구 중\n"
     ]
    }
   ],
   "source": [
    "print(address[3:8])"
   ]
  },
  {
   "cell_type": "code",
   "execution_count": 19,
   "id": "caa02cd9",
   "metadata": {},
   "outputs": [
    {
     "name": "stdout",
     "output_type": "stream",
     "text": [
      "부산 동래구 중\n"
     ]
    }
   ],
   "source": [
    "print(address[:8])"
   ]
  },
  {
   "cell_type": "code",
   "execution_count": 20,
   "id": "7032b22f",
   "metadata": {},
   "outputs": [],
   "source": [
    "names = [\"김준일\",\"김준이\",\"김준삼\",\"김준사\"]"
   ]
  },
  {
   "cell_type": "code",
   "execution_count": 32,
   "id": "878af290",
   "metadata": {},
   "outputs": [
    {
     "name": "stdout",
     "output_type": "stream",
     "text": [
      "준일\n",
      "준이\n",
      "준삼\n",
      "준사\n"
     ]
    }
   ],
   "source": [
    "print(names[0][1:3])\n",
    "print(names[1][1:3])\n",
    "print(names[2][1:3])\n",
    "print(names[3][1:3])"
   ]
  },
  {
   "cell_type": "code",
   "execution_count": 41,
   "id": "ab5eb6e9",
   "metadata": {},
   "outputs": [
    {
     "name": "stdout",
     "output_type": "stream",
     "text": [
      "준일\n",
      "준이\n",
      "준삼\n",
      "준사\n"
     ]
    }
   ],
   "source": [
    "for name in names:\n",
    "        print(name[1:])"
   ]
  },
  {
   "cell_type": "code",
   "execution_count": 40,
   "id": "3ff9ffa1",
   "metadata": {},
   "outputs": [
    {
     "name": "stdout",
     "output_type": "stream",
     "text": [
      "준일\n",
      "준이\n",
      "준삼\n",
      "준사\n"
     ]
    }
   ],
   "source": [
    "for i in range(4):\n",
    "        print(names[i][1:])"
   ]
  },
  {
   "cell_type": "code",
   "execution_count": 45,
   "id": "9d74dfbc",
   "metadata": {},
   "outputs": [
    {
     "name": "stdout",
     "output_type": "stream",
     "text": [
      "range(0, 10)\n"
     ]
    }
   ],
   "source": [
    "print(range(10))"
   ]
  },
  {
   "cell_type": "code",
   "execution_count": 48,
   "id": "0ef50b6f",
   "metadata": {},
   "outputs": [
    {
     "name": "stdout",
     "output_type": "stream",
     "text": [
      "\n",
      "select\n",
      "    *\n",
      "from\n",
      "    user_tb\n",
      "where\n",
      "    username = aaa\n",
      "\n"
     ]
    }
   ],
   "source": [
    "username = \"aaa\"\n",
    "\n",
    "sql = f\"\"\"\n",
    "select\n",
    "    *\n",
    "from\n",
    "    user_tb\n",
    "where\n",
    "    username = {username}\n",
    "\"\"\"\n",
    "\n",
    "print(sql)"
   ]
  },
  {
   "cell_type": "code",
   "execution_count": 52,
   "id": "063fa7c8",
   "metadata": {
    "scrolled": true
   },
   "outputs": [
    {
     "name": "stdout",
     "output_type": "stream",
     "text": [
      "2\n",
      "-1\n"
     ]
    },
    {
     "ename": "ValueError",
     "evalue": "substring not found",
     "output_type": "error",
     "traceback": [
      "\u001b[1;31m---------------------------------------------------------------------------\u001b[0m",
      "\u001b[1;31mValueError\u001b[0m                                Traceback (most recent call last)",
      "Cell \u001b[1;32mIn[52], line 4\u001b[0m\n\u001b[0;32m      2\u001b[0m \u001b[38;5;28mprint\u001b[39m(name\u001b[38;5;241m.\u001b[39mcount(\u001b[38;5;124m\"\u001b[39m\u001b[38;5;124m김\u001b[39m\u001b[38;5;124m\"\u001b[39m))\n\u001b[0;32m      3\u001b[0m \u001b[38;5;28mprint\u001b[39m(name\u001b[38;5;241m.\u001b[39mfind(\u001b[38;5;124m\"\u001b[39m\u001b[38;5;124m이\u001b[39m\u001b[38;5;124m\"\u001b[39m))\n\u001b[1;32m----> 4\u001b[0m \u001b[38;5;28mprint\u001b[39m(name\u001b[38;5;241m.\u001b[39mindex(\u001b[38;5;124m\"\u001b[39m\u001b[38;5;124m이\u001b[39m\u001b[38;5;124m\"\u001b[39m))\n",
      "\u001b[1;31mValueError\u001b[0m: substring not found"
     ]
    }
   ],
   "source": [
    "name = \"김김일\"\n",
    "print(name.count(\"김\"))\n",
    "print(name.find(\"이\"))\n",
    "print(name.index(\"이\"))"
   ]
  },
  {
   "cell_type": "code",
   "execution_count": 60,
   "id": "dc9912d6",
   "metadata": {
    "scrolled": false
   },
   "outputs": [
    {
     "name": "stdout",
     "output_type": "stream",
     "text": [
      "김준일\n",
      "김 준 일\n",
      " \n"
     ]
    }
   ],
   "source": [
    "name = \"김준일\"\n",
    "print(name)\n",
    "name = \" \".join(name)\n",
    "print(name)\n",
    "name2 = \"김준일\"\n",
    "name2 = name2.join(\" \")\n",
    "print(name2)"
   ]
  }
 ],
 "metadata": {
  "kernelspec": {
   "display_name": "Python 3 (ipykernel)",
   "language": "python",
   "name": "python3"
  },
  "language_info": {
   "codemirror_mode": {
    "name": "ipython",
    "version": 3
   },
   "file_extension": ".py",
   "mimetype": "text/x-python",
   "name": "python",
   "nbconvert_exporter": "python",
   "pygments_lexer": "ipython3",
   "version": "3.11.4"
  }
 },
 "nbformat": 4,
 "nbformat_minor": 5
}
