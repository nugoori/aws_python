{
 "cells": [
  {
   "cell_type": "code",
   "execution_count": 91,
   "id": "5018bb24",
   "metadata": {},
   "outputs": [],
   "source": [
    "num = 10"
   ]
  },
  {
   "cell_type": "code",
   "execution_count": 92,
   "id": "866d1ee6",
   "metadata": {},
   "outputs": [],
   "source": [
    "num2 = 20"
   ]
  },
  {
   "cell_type": "code",
   "execution_count": 93,
   "id": "9d36a545",
   "metadata": {},
   "outputs": [
    {
     "data": {
      "text/plain": [
       "30"
      ]
     },
     "execution_count": 93,
     "metadata": {},
     "output_type": "execute_result"
    }
   ],
   "source": [
    "num + num2"
   ]
  },
  {
   "cell_type": "code",
   "execution_count": 94,
   "id": "8e29c146",
   "metadata": {},
   "outputs": [],
   "source": [
    "name = '김준일'"
   ]
  },
  {
   "cell_type": "code",
   "execution_count": 96,
   "id": "b2bcefd3",
   "metadata": {},
   "outputs": [],
   "source": [
    "address = '부산\\n동래구\\n중앙대로\\n'"
   ]
  },
  {
   "cell_type": "code",
   "execution_count": 97,
   "id": "6d908c0a",
   "metadata": {},
   "outputs": [
    {
     "name": "stdout",
     "output_type": "stream",
     "text": [
      "부산\n",
      "동래구\n",
      "중앙대로\n",
      "\n"
     ]
    }
   ],
   "source": [
    "print(address)"
   ]
  },
  {
   "cell_type": "code",
   "execution_count": 103,
   "id": "a6d19f57",
   "metadata": {},
   "outputs": [],
   "source": [
    "address2 = \"\"\"부산\n",
    "동래구\n",
    "중앙대로\"\"\""
   ]
  },
  {
   "cell_type": "code",
   "execution_count": 104,
   "id": "97c63b3b",
   "metadata": {},
   "outputs": [
    {
     "name": "stdout",
     "output_type": "stream",
     "text": [
      "부산\n",
      "동래구\n",
      "중앙대로\n"
     ]
    }
   ],
   "source": [
    "print(address2)"
   ]
  },
  {
   "cell_type": "code",
   "execution_count": 105,
   "id": "d244f03c",
   "metadata": {},
   "outputs": [],
   "source": [
    "sql = \"\"\"\n",
    "selet\n",
    "    *\n",
    "from\n",
    "    user_tb\n",
    "\"\"\""
   ]
  },
  {
   "cell_type": "code",
   "execution_count": 106,
   "id": "38fe6869",
   "metadata": {},
   "outputs": [
    {
     "name": "stdout",
     "output_type": "stream",
     "text": [
      "\n",
      "selet\n",
      "    *\n",
      "from\n",
      "    user_tb\n",
      "\n"
     ]
    }
   ],
   "source": [
    "print(sql)"
   ]
  },
  {
   "cell_type": "code",
   "execution_count": 107,
   "id": "80823bf4",
   "metadata": {},
   "outputs": [],
   "source": [
    "isEmpty = len(sql) == 0"
   ]
  },
  {
   "cell_type": "code",
   "execution_count": 108,
   "id": "dad43c00",
   "metadata": {},
   "outputs": [
    {
     "name": "stdout",
     "output_type": "stream",
     "text": [
      "False\n"
     ]
    }
   ],
   "source": [
    "print(isEmpty)"
   ]
  },
  {
   "cell_type": "code",
   "execution_count": 118,
   "id": "b111a2a2",
   "metadata": {},
   "outputs": [],
   "source": [
    "isShow = True\n",
    "isSelect = False"
   ]
  },
  {
   "cell_type": "code",
   "execution_count": 110,
   "id": "081bc1b8",
   "metadata": {},
   "outputs": [
    {
     "ename": "SyntaxError",
     "evalue": "invalid syntax (650016495.py, line 1)",
     "output_type": "error",
     "traceback": [
      "\u001b[1;36m  Cell \u001b[1;32mIn[110], line 1\u001b[1;36m\u001b[0m\n\u001b[1;33m    print(isShow && isSelect)\u001b[0m\n\u001b[1;37m                  ^\u001b[0m\n\u001b[1;31mSyntaxError\u001b[0m\u001b[1;31m:\u001b[0m invalid syntax\n"
     ]
    }
   ],
   "source": [
    "print(isShow && isSelect)"
   ]
  },
  {
   "cell_type": "code",
   "execution_count": 119,
   "id": "bab0352e",
   "metadata": {},
   "outputs": [
    {
     "name": "stdout",
     "output_type": "stream",
     "text": [
      "False\n"
     ]
    }
   ],
   "source": [
    "print(isShow and isSelect)"
   ]
  },
  {
   "cell_type": "code",
   "execution_count": 120,
   "id": "de8aa1fb",
   "metadata": {},
   "outputs": [
    {
     "name": "stdout",
     "output_type": "stream",
     "text": [
      "True\n"
     ]
    }
   ],
   "source": [
    "print(isShow and not isSelect)"
   ]
  },
  {
   "cell_type": "code",
   "execution_count": 121,
   "id": "7fea0328",
   "metadata": {},
   "outputs": [
    {
     "name": "stdout",
     "output_type": "stream",
     "text": [
      "True\n"
     ]
    }
   ],
   "source": [
    "print(isShow or isSelect)"
   ]
  }
 ],
 "metadata": {
  "kernelspec": {
   "display_name": "Python 3 (ipykernel)",
   "language": "python",
   "name": "python3"
  },
  "language_info": {
   "codemirror_mode": {
    "name": "ipython",
    "version": 3
   },
   "file_extension": ".py",
   "mimetype": "text/x-python",
   "name": "python",
   "nbconvert_exporter": "python",
   "pygments_lexer": "ipython3",
   "version": "3.11.4"
  }
 },
 "nbformat": 4,
 "nbformat_minor": 5
}
