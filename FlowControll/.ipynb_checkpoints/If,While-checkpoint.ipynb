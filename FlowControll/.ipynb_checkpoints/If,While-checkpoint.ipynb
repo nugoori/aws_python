{
 "cells": [
  {
   "cell_type": "code",
   "execution_count": 10,
   "id": "12a8cd3f",
   "metadata": {},
   "outputs": [
    {
     "name": "stdout",
     "output_type": "stream",
     "text": [
      "거짓\n"
     ]
    }
   ],
   "source": [
    "username = \"bbb\"\n",
    "password = \"1234\"\n",
    "\n",
    "if username == \"aaa\" and password == \"1234\":\n",
    "    print(\"참\")\n",
    "    print(\"참2\")\n",
    "else:\n",
    "    print(\"거짓\")"
   ]
  },
  {
   "cell_type": "code",
   "execution_count": 11,
   "id": "4bd10e30",
   "metadata": {},
   "outputs": [
    {
     "name": "stdout",
     "output_type": "stream",
     "text": [
      "password가 1234임\n"
     ]
    }
   ],
   "source": [
    "if username == \"aaa\":\n",
    "    print(\"username이 aaa임\")\n",
    "elif(password == \"1234\"):\n",
    "    print(\"password가 1234임\")\n",
    "else:\n",
    "    print(\"둘 다 아님\")"
   ]
  },
  {
   "cell_type": "code",
   "execution_count": 15,
   "id": "20b63adf",
   "metadata": {},
   "outputs": [
    {
     "name": "stdout",
     "output_type": "stream",
     "text": [
      "메뉴입력: 1\n",
      "while 반복\n",
      "메뉴입력: 2\n",
      "while 반복\n",
      "메뉴입력: 3\n",
      "while 반복\n",
      "메뉴입력: 4\n",
      "while 반복\n",
      "메뉴입력: 5\n",
      "while 반복\n",
      "메뉴입력: q\n"
     ]
    }
   ],
   "source": [
    "while True:\n",
    "    menw = input(\"메뉴입력: \")\n",
    "    if menw == \"q\":\n",
    "        break\n",
    "    \n",
    "    print(\"while 반복\")"
   ]
  }
 ],
 "metadata": {
  "kernelspec": {
   "display_name": "Python 3 (ipykernel)",
   "language": "python",
   "name": "python3"
  },
  "language_info": {
   "codemirror_mode": {
    "name": "ipython",
    "version": 3
   },
   "file_extension": ".py",
   "mimetype": "text/x-python",
   "name": "python",
   "nbconvert_exporter": "python",
   "pygments_lexer": "ipython3",
   "version": "3.11.4"
  }
 },
 "nbformat": 4,
 "nbformat_minor": 5
}
