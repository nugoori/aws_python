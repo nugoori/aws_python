{
 "cells": [
  {
   "cell_type": "code",
   "execution_count": 6,
   "id": "8ee08bde",
   "metadata": {},
   "outputs": [
    {
     "name": "stdout",
     "output_type": "stream",
     "text": [
      "x: 123\n",
      "y: 123\n",
      "9\n",
      "69\n",
      "369\n",
      "6\n",
      "46\n",
      "246\n",
      "3\n",
      "23\n",
      "123\n",
      "15129\n"
     ]
    }
   ],
   "source": [
    "x = list(map(int, input(\"x: \")))\n",
    "y = list(map(int, input(\"y: \")))\n",
    "\n",
    "x.reverse()\n",
    "y.reverse()\n",
    "\n",
    "result = 0\n",
    "i = 0\n",
    "for numY in y:\n",
    "    j = 0\n",
    "    subResult = 0\n",
    "    \n",
    "    for numX in x:\n",
    "        subResult += numX * numY * (10 ** j)\n",
    "        j += 1\n",
    "        \n",
    "    print(subResult)    \n",
    "    result += subResult * (10 ** i)\n",
    "    i += 1\n",
    "print(result)"
   ]
  },
  {
   "cell_type": "code",
   "execution_count": null,
   "id": "8c698ee1",
   "metadata": {},
   "outputs": [],
   "source": [
    "x = int(input(\"x: \"))\n",
    "y = list(map(int, inpput(\"y: \")))\n",
    "\n",
    "y.reverse()\n",
    "\n",
    "result = 0\n",
    "\n",
    "for numY in y:\n",
    "    "
   ]
  }
 ],
 "metadata": {
  "kernelspec": {
   "display_name": "Python 3 (ipykernel)",
   "language": "python",
   "name": "python3"
  },
  "language_info": {
   "codemirror_mode": {
    "name": "ipython",
    "version": 3
   },
   "file_extension": ".py",
   "mimetype": "text/x-python",
   "name": "python",
   "nbconvert_exporter": "python",
   "pygments_lexer": "ipython3",
   "version": "3.11.4"
  }
 },
 "nbformat": 4,
 "nbformat_minor": 5
}
