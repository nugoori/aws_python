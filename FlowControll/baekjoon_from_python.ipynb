{
 "cells": [
  {
   "cell_type": "code",
   "execution_count": 1,
   "id": "8ee08bde",
   "metadata": {},
   "outputs": [
    {
     "name": "stdin",
     "output_type": "stream",
     "text": [
      "x:  123\n",
      "y:  123\n"
     ]
    },
    {
     "name": "stdout",
     "output_type": "stream",
     "text": [
      "369\n",
      "2460\n",
      "12300\n",
      "15129\n"
     ]
    }
   ],
   "source": [
    "x = list(map(int, input(\"x: \")))\n",
    "y = list(map(int, input(\"y: \")))\n",
    "\n",
    "x.reverse()\n",
    "y.reverse()\n",
    "\n",
    "result = 0\n",
    "i = 0\n",
    "for numY in y:\n",
    "    j = 0\n",
    "    subResult = 0\n",
    "    \n",
    "    for numX in x:\n",
    "        subResult += numX * numY * (10 ** j)\n",
    "        j += 1\n",
    "        \n",
    "    print(subResult  * (10 ** i))    \n",
    "    result += subResult * (10 ** i)\n",
    "    i += 1\n",
    "print(result)"
   ]
  },
  {
   "cell_type": "code",
   "execution_count": 3,
   "id": "8c698ee1",
   "metadata": {},
   "outputs": [
    {
     "ename": "SyntaxError",
     "evalue": "incomplete input (397263368.py, line 9)",
     "output_type": "error",
     "traceback": [
      "\u001b[1;36m  Cell \u001b[1;32mIn[3], line 9\u001b[1;36m\u001b[0m\n\u001b[1;33m    \u001b[0m\n\u001b[1;37m    ^\u001b[0m\n\u001b[1;31mSyntaxError\u001b[0m\u001b[1;31m:\u001b[0m incomplete input\n"
     ]
    }
   ],
   "source": [
    "x = int(input(\"x: \"))\n",
    "y = list(map(int, inpput(\"y: \")))\n",
    "\n",
    "y.reverse()\n",
    "\n",
    "result = 0\n",
    "\n",
    "for numY in y:\n",
    "    "
   ]
  }
 ],
 "metadata": {
  "kernelspec": {
   "display_name": "Python 3 (ipykernel)",
   "language": "python",
   "name": "python3"
  },
  "language_info": {
   "codemirror_mode": {
    "name": "ipython",
    "version": 3
   },
   "file_extension": ".py",
   "mimetype": "text/x-python",
   "name": "python",
   "nbconvert_exporter": "python",
   "pygments_lexer": "ipython3",
   "version": "3.11.4"
  }
 },
 "nbformat": 4,
 "nbformat_minor": 5
}
