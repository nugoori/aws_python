{
 "cells": [
  {
   "cell_type": "code",
   "execution_count": 27,
   "metadata": {},
   "outputs": [
    {
     "name": "stdout",
     "output_type": "stream",
     "text": [
      "b'{\"response\":{\"header\":{\"resultCode\":\"00\",\"resultMsg\":\"NORMAL_SERVICE\"},\"body\":{\"dataType\":\"JSON\",\"items\":{\"item\":[{\"regId\":\"11H20000\",\"rnSt3Am\":40,\"rnSt3Pm\":40,\"rnSt4Am\":30,\"rnSt4Pm\":30,\"rnSt5Am\":30,\"rnSt5Pm\":40,\"rnSt6Am\":40,\"rnSt6Pm\":40,\"rnSt7Am\":40,\"rnSt7Pm\":40,\"rnSt8\":30,\"rnSt9\":40,\"rnSt10\":40,\"wf3Am\":\"\\xea\\xb5\\xac\\xeb\\xa6\\x84\\xeb\\xa7\\x8e\\xec\\x9d\\x8c\",\"wf3Pm\":\"\\xea\\xb5\\xac\\xeb\\xa6\\x84\\xeb\\xa7\\x8e\\xec\\x9d\\x8c\",\"wf4Am\":\"\\xea\\xb5\\xac\\xeb\\xa6\\x84\\xeb\\xa7\\x8e\\xec\\x9d\\x8c\",\"wf4Pm\":\"\\xea\\xb5\\xac\\xeb\\xa6\\x84\\xeb\\xa7\\x8e\\xec\\x9d\\x8c\",\"wf5Am\":\"\\xea\\xb5\\xac\\xeb\\xa6\\x84\\xeb\\xa7\\x8e\\xec\\x9d\\x8c\",\"wf5Pm\":\"\\xed\\x9d\\x90\\xeb\\xa6\\xbc\",\"wf6Am\":\"\\xed\\x9d\\x90\\xeb\\xa6\\xbc\",\"wf6Pm\":\"\\xed\\x9d\\x90\\xeb\\xa6\\xbc\",\"wf7Am\":\"\\xed\\x9d\\x90\\xeb\\xa6\\xbc\",\"wf7Pm\":\"\\xed\\x9d\\x90\\xeb\\xa6\\xbc\",\"wf8\":\"\\xea\\xb5\\xac\\xeb\\xa6\\x84\\xeb\\xa7\\x8e\\xec\\x9d\\x8c\",\"wf9\":\"\\xed\\x9d\\x90\\xeb\\xa6\\xbc\",\"wf10\":\"\\xea\\xb5\\xac\\xeb\\xa6\\x84\\xeb\\xa7\\x8e\\xec\\x9d\\x8c\"}]},\"pageNo\":1,\"numOfRows\":10,\"totalCount\":1}}}'\n",
      "{'response': {'header': {'resultCode': '00', 'resultMsg': 'NORMAL_SERVICE'}, 'body': {'dataType': 'JSON', 'items': {'item': [{'regId': '11H20000', 'rnSt3Am': 40, 'rnSt3Pm': 40, 'rnSt4Am': 30, 'rnSt4Pm': 30, 'rnSt5Am': 30, 'rnSt5Pm': 40, 'rnSt6Am': 40, 'rnSt6Pm': 40, 'rnSt7Am': 40, 'rnSt7Pm': 40, 'rnSt8': 30, 'rnSt9': 40, 'rnSt10': 40, 'wf3Am': '구름많음', 'wf3Pm': '구름많음', 'wf4Am': '구름많음', 'wf4Pm': '구름많음', 'wf5Am': '구름많음', 'wf5Pm': '흐림', 'wf6Am': '흐림', 'wf6Pm': '흐림', 'wf7Am': '흐림', 'wf7Pm': '흐림', 'wf8': '구름많음', 'wf9': '흐림', 'wf10': '구름많음'}]}, 'pageNo': 1, 'numOfRows': 10, 'totalCount': 1}}}\n"
     ]
    },
    {
     "data": {
      "text/html": [
       "<div>\n",
       "<style scoped>\n",
       "    .dataframe tbody tr th:only-of-type {\n",
       "        vertical-align: middle;\n",
       "    }\n",
       "\n",
       "    .dataframe tbody tr th {\n",
       "        vertical-align: top;\n",
       "    }\n",
       "\n",
       "    .dataframe thead th {\n",
       "        text-align: right;\n",
       "    }\n",
       "</style>\n",
       "<table border=\"1\" class=\"dataframe\">\n",
       "  <thead>\n",
       "    <tr style=\"text-align: right;\">\n",
       "      <th></th>\n",
       "      <th>item</th>\n",
       "      <th>status</th>\n",
       "    </tr>\n",
       "  </thead>\n",
       "  <tbody>\n",
       "    <tr>\n",
       "      <th>header</th>\n",
       "      <td>NaN</td>\n",
       "      <td>NaN</td>\n",
       "    </tr>\n",
       "    <tr>\n",
       "      <th>body</th>\n",
       "      <td>NaN</td>\n",
       "      <td>NaN</td>\n",
       "    </tr>\n",
       "    <tr>\n",
       "      <th>pageNo</th>\n",
       "      <td>NaN</td>\n",
       "      <td>NaN</td>\n",
       "    </tr>\n",
       "    <tr>\n",
       "      <th>numOfRows</th>\n",
       "      <td>NaN</td>\n",
       "      <td>NaN</td>\n",
       "    </tr>\n",
       "    <tr>\n",
       "      <th>totalCount</th>\n",
       "      <td>NaN</td>\n",
       "      <td>NaN</td>\n",
       "    </tr>\n",
       "  </tbody>\n",
       "</table>\n",
       "</div>"
      ],
      "text/plain": [
       "           item status\n",
       "header      NaN    NaN\n",
       "body        NaN    NaN\n",
       "pageNo      NaN    NaN\n",
       "numOfRows   NaN    NaN\n",
       "totalCount  NaN    NaN"
      ]
     },
     "execution_count": 27,
     "metadata": {},
     "output_type": "execute_result"
    }
   ],
   "source": [
    "import requests\n",
    "\n",
    "url = 'http://apis.data.go.kr/1360000/MidFcstInfoService/getMidLandFcst'\n",
    "params ={\n",
    "    'serviceKey' : 'oGe1AgVe+udbs+DN4zjKKxi6pvPirC2PusUXQ9201uo3pewKRALhq5do9SzsDowchc79+rk7KDXC6Cergxf5dg==',\n",
    "    'pageNo' : '1',\n",
    "    'numOfRows' : '10', \n",
    "    'dataType' : 'JSON', \n",
    "    'regId' : '11H20000', \n",
    "    'tmFc' : '202309150600' \n",
    "}\n",
    "\n",
    "response = requests.get(url, params=params)\n",
    "response.encoding = \"UTF-8\"\n",
    "print(response.content)\n",
    "responseDict = eval(response.content)\n",
    "print(responseDict)\n",
    "\n",
    "import pandas as pd\n",
    "indexList = [\"header\", \"body\", \"pageNo\", \"numOfRows\", \"totalCount\"]\n",
    "df = pd.DataFrame(responseDict, index=indexList, columns=[\"item\", \"status\"])\n",
    "df"
   ]
  }
 ],
 "metadata": {
  "kernelspec": {
   "display_name": "Python 3",
   "language": "python",
   "name": "python3"
  },
  "language_info": {
   "codemirror_mode": {
    "name": "ipython",
    "version": 3
   },
   "file_extension": ".py",
   "mimetype": "text/x-python",
   "name": "python",
   "nbconvert_exporter": "python",
   "pygments_lexer": "ipython3",
   "version": "3.11.4"
  },
  "orig_nbformat": 4
 },
 "nbformat": 4,
 "nbformat_minor": 2
}
