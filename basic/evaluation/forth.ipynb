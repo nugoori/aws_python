{
 "cells": [
  {
   "cell_type": "code",
   "execution_count": 15,
   "metadata": {},
   "outputs": [
    {
     "name": "stdout",
     "output_type": "stream",
     "text": [
      "b'{\"response\":{\"header\":{\"resultCode\":\"00\",\"resultMsg\":\"NORMAL_SERVICE\"},\"body\":{\"dataType\":\"JSON\",\"items\":{\"item\":[{\"regId\":\"11G00201\",\"taMin3\":22,\"taMin3Low\":1,\"taMin3High\":2,\"taMax3\":27,\"taMax3Low\":1,\"taMax3High\":1,\"taMin4\":23,\"taMin4Low\":1,\"taMin4High\":1,\"taMax4\":27,\"taMax4Low\":1,\"taMax4High\":1,\"taMin5\":23,\"taMin5Low\":1,\"taMin5High\":1,\"taMax5\":28,\"taMax5Low\":1,\"taMax5High\":1,\"taMin6\":23,\"taMin6Low\":2,\"taMin6High\":1,\"taMax6\":28,\"taMax6Low\":1,\"taMax6High\":1,\"taMin7\":23,\"taMin7Low\":1,\"taMin7High\":1,\"taMax7\":27,\"taMax7Low\":1,\"taMax7High\":1,\"taMin8\":22,\"taMin8Low\":0,\"taMin8High\":1,\"taMax8\":26,\"taMax8Low\":0,\"taMax8High\":1,\"taMin9\":21,\"taMin9Low\":0,\"taMin9High\":2,\"taMax9\":25,\"taMax9Low\":0,\"taMax9High\":1,\"taMin10\":19,\"taMin10Low\":0,\"taMin10High\":1,\"taMax10\":25,\"taMax10Low\":0,\"taMax10High\":1}]},\"pageNo\":1,\"numOfRows\":10,\"totalCount\":1}}}'\n",
      "{'response': {'header': {'resultCode': '00', 'resultMsg': 'NORMAL_SERVICE'}, 'body': {'dataType': 'JSON', 'items': {'item': [{'regId': '11G00201', 'taMin3': 22, 'taMin3Low': 1, 'taMin3High': 2, 'taMax3': 27, 'taMax3Low': 1, 'taMax3High': 1, 'taMin4': 23, 'taMin4Low': 1, 'taMin4High': 1, 'taMax4': 27, 'taMax4Low': 1, 'taMax4High': 1, 'taMin5': 23, 'taMin5Low': 1, 'taMin5High': 1, 'taMax5': 28, 'taMax5Low': 1, 'taMax5High': 1, 'taMin6': 23, 'taMin6Low': 2, 'taMin6High': 1, 'taMax6': 28, 'taMax6Low': 1, 'taMax6High': 1, 'taMin7': 23, 'taMin7Low': 1, 'taMin7High': 1, 'taMax7': 27, 'taMax7Low': 1, 'taMax7High': 1, 'taMin8': 22, 'taMin8Low': 0, 'taMin8High': 1, 'taMax8': 26, 'taMax8Low': 0, 'taMax8High': 1, 'taMin9': 21, 'taMin9Low': 0, 'taMin9High': 2, 'taMax9': 25, 'taMax9Low': 0, 'taMax9High': 1, 'taMin10': 19, 'taMin10Low': 0, 'taMin10High': 1, 'taMax10': 25, 'taMax10Low': 0, 'taMax10High': 1}]}, 'pageNo': 1, 'numOfRows': 10, 'totalCount': 1}}}\n"
     ]
    }
   ],
   "source": [
    "import requests\n",
    "import pandas as pd\n",
    "\n",
    "# pageNo = 1\n",
    "# numOfRows = 10\n",
    "# dataType = 10\n",
    "# regId = 제주도 11G00201\n",
    "# tmFc = 최근 데이터\n",
    "\n",
    "url = 'http://apis.data.go.kr/1360000/MidFcstInfoService/getMidTa'\n",
    "params = {\n",
    "    'serviceKey': 'oGe1AgVe+udbs+DN4zjKKxi6pvPirC2PusUXQ9201uo3pewKRALhq5do9SzsDowchc79+rk7KDXC6Cergxf5dg=='    , \n",
    "    'pageNo': '1',\n",
    "    'numOfRows': '10',\n",
    "    'dataType': 'JSON', \n",
    "    'regId': '11G00201', \n",
    "    'tmFc': '202309200600' \n",
    "}\n",
    "\n",
    "response = requests.get(url, params=params)\n",
    "response.encoding=\"UTF-8\"\n",
    "print(response.content)\n",
    "responseDict = eval(response.content)\n",
    "print(responseDict)\n",
    "\n",
    "\n",
    "# indexList = [ \"taMin3\", \"taMax3\",\"taMin4\", \"taMax4\",\"taMin5\", \"taMax5\",\"taMin6\", \"taMax6\",\"taMin7\", \"taMax7\",\"taMin8\", \"taMax8\",\"taMin9\", \"taMax9\",\"taMin10\", \"taMax10\" ]\n",
    "# df = pd.DataFrame(responseDict, index=indexList, columns=[\"taMax\", \"temp\"])\n",
    "# df"
   ]
  }
 ],
 "metadata": {
  "kernelspec": {
   "display_name": "Python 3",
   "language": "python",
   "name": "python3"
  },
  "language_info": {
   "codemirror_mode": {
    "name": "ipython",
    "version": 3
   },
   "file_extension": ".py",
   "mimetype": "text/x-python",
   "name": "python",
   "nbconvert_exporter": "python",
   "pygments_lexer": "ipython3",
   "version": "3.11.4"
  },
  "orig_nbformat": 4
 },
 "nbformat": 4,
 "nbformat_minor": 2
}
