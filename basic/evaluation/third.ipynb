{
 "cells": [
  {
   "cell_type": "code",
   "execution_count": 36,
   "metadata": {},
   "outputs": [
    {
     "name": "stdout",
     "output_type": "stream",
     "text": [
      "[[6. 6. 6. 6. 6.]\n",
      " [6. 6. 6. 6. 6.]\n",
      " [6. 6. 6. 6. 6.]\n",
      " [6. 6. 6. 6. 6.]\n",
      " [6. 6. 6. 6. 6.]]\n",
      "[[36.  6.  6.  6. 36.]\n",
      " [ 6. 36.  6. 36.  6.]\n",
      " [ 6.  6. 36.  6.  6.]\n",
      " [ 6. 36.  6. 36.  6.]\n",
      " [36.  6.  6.  6. 36.]]\n"
     ]
    }
   ],
   "source": [
    "import numpy as np\n",
    "\n",
    "Arr1 = np.full((5, 5), 1.)\n",
    "Arr2 = np.full((5, 5), 5)\n",
    "\n",
    "sumArr = Arr1 + Arr2\n",
    "print(sumArr)\n",
    "\n",
    "for i in range(len(Arr1)):\n",
    "    for j in range(len(Arr2)):\n",
    "        if (i == j) or (i + j == 4):\n",
    "            sumArr[i, j] = sumArr[i, j] * sumArr[i, j]\n",
    "print(sumArr)"
   ]
  }
 ],
 "metadata": {
  "language_info": {
   "name": "python"
  },
  "orig_nbformat": 4
 },
 "nbformat": 4,
 "nbformat_minor": 2
}
