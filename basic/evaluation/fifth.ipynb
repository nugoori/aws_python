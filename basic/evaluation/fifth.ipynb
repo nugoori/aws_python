{
 "cells": [
  {
   "cell_type": "code",
   "execution_count": 16,
   "metadata": {},
   "outputs": [
    {
     "ename": "KeyboardInterrupt",
     "evalue": "Interrupted by user",
     "output_type": "error",
     "traceback": [
      "\u001b[1;31m---------------------------------------------------------------------------\u001b[0m",
      "\u001b[1;31mKeyboardInterrupt\u001b[0m                         Traceback (most recent call last)",
      "\u001b[1;32mc:\\aws\\python\\basic\\evaluation\\fifth.ipynb 셀 1\u001b[0m line \u001b[0;36m1\n\u001b[0;32m      <a href='vscode-notebook-cell:/c%3A/aws/python/basic/evaluation/fifth.ipynb#W0sZmlsZQ%3D%3D?line=8'>9</a>\u001b[0m driver\u001b[39m.\u001b[39mget(\u001b[39m\"\u001b[39m\u001b[39mhttps://www.data.go.kr/\u001b[39m\u001b[39m\"\u001b[39m)\n\u001b[0;32m     <a href='vscode-notebook-cell:/c%3A/aws/python/basic/evaluation/fifth.ipynb#W0sZmlsZQ%3D%3D?line=10'>11</a>\u001b[0m time\u001b[39m.\u001b[39msleep(\u001b[39m1\u001b[39m)\n\u001b[1;32m---> <a href='vscode-notebook-cell:/c%3A/aws/python/basic/evaluation/fifth.ipynb#W0sZmlsZQ%3D%3D?line=12'>13</a>\u001b[0m searchValue \u001b[39m=\u001b[39m \u001b[39minput\u001b[39m(\u001b[39m\"\u001b[39m\u001b[39m찾으실 공공데이터를 입력하세요: \u001b[39m\u001b[39m\"\u001b[39m)\n\u001b[0;32m     <a href='vscode-notebook-cell:/c%3A/aws/python/basic/evaluation/fifth.ipynb#W0sZmlsZQ%3D%3D?line=14'>15</a>\u001b[0m searchInput \u001b[39m=\u001b[39m driver\u001b[39m.\u001b[39mfind_element(by\u001b[39m=\u001b[39mBy\u001b[39m.\u001b[39mCSS_SELECTOR, value\u001b[39m=\u001b[39m\u001b[39m\"\u001b[39m\u001b[39m.input-text\u001b[39m\u001b[39m\"\u001b[39m)\n\u001b[0;32m     <a href='vscode-notebook-cell:/c%3A/aws/python/basic/evaluation/fifth.ipynb#W0sZmlsZQ%3D%3D?line=15'>16</a>\u001b[0m searchInput\u001b[39m.\u001b[39msend_keys(searchValue)\n",
      "File \u001b[1;32mc:\\Users\\ITPS\\anaconda3\\Lib\\site-packages\\ipykernel\\kernelbase.py:1175\u001b[0m, in \u001b[0;36mKernel.raw_input\u001b[1;34m(self, prompt)\u001b[0m\n\u001b[0;32m   1171\u001b[0m \u001b[39mif\u001b[39;00m \u001b[39mnot\u001b[39;00m \u001b[39mself\u001b[39m\u001b[39m.\u001b[39m_allow_stdin:\n\u001b[0;32m   1172\u001b[0m     \u001b[39mraise\u001b[39;00m StdinNotImplementedError(\n\u001b[0;32m   1173\u001b[0m         \u001b[39m\"\u001b[39m\u001b[39mraw_input was called, but this frontend does not support input requests.\u001b[39m\u001b[39m\"\u001b[39m\n\u001b[0;32m   1174\u001b[0m     )\n\u001b[1;32m-> 1175\u001b[0m \u001b[39mreturn\u001b[39;00m \u001b[39mself\u001b[39m\u001b[39m.\u001b[39m_input_request(\n\u001b[0;32m   1176\u001b[0m     \u001b[39mstr\u001b[39m(prompt),\n\u001b[0;32m   1177\u001b[0m     \u001b[39mself\u001b[39m\u001b[39m.\u001b[39m_parent_ident[\u001b[39m\"\u001b[39m\u001b[39mshell\u001b[39m\u001b[39m\"\u001b[39m],\n\u001b[0;32m   1178\u001b[0m     \u001b[39mself\u001b[39m\u001b[39m.\u001b[39mget_parent(\u001b[39m\"\u001b[39m\u001b[39mshell\u001b[39m\u001b[39m\"\u001b[39m),\n\u001b[0;32m   1179\u001b[0m     password\u001b[39m=\u001b[39m\u001b[39mFalse\u001b[39;00m,\n\u001b[0;32m   1180\u001b[0m )\n",
      "File \u001b[1;32mc:\\Users\\ITPS\\anaconda3\\Lib\\site-packages\\ipykernel\\kernelbase.py:1217\u001b[0m, in \u001b[0;36mKernel._input_request\u001b[1;34m(self, prompt, ident, parent, password)\u001b[0m\n\u001b[0;32m   1214\u001b[0m             \u001b[39mbreak\u001b[39;00m\n\u001b[0;32m   1215\u001b[0m \u001b[39mexcept\u001b[39;00m \u001b[39mKeyboardInterrupt\u001b[39;00m:\n\u001b[0;32m   1216\u001b[0m     \u001b[39m# re-raise KeyboardInterrupt, to truncate traceback\u001b[39;00m\n\u001b[1;32m-> 1217\u001b[0m     \u001b[39mraise\u001b[39;00m \u001b[39mKeyboardInterrupt\u001b[39;00m(\u001b[39m\"\u001b[39m\u001b[39mInterrupted by user\u001b[39m\u001b[39m\"\u001b[39m) \u001b[39mfrom\u001b[39;00m \u001b[39mNone\u001b[39;00m\n\u001b[0;32m   1218\u001b[0m \u001b[39mexcept\u001b[39;00m \u001b[39mException\u001b[39;00m:\n\u001b[0;32m   1219\u001b[0m     \u001b[39mself\u001b[39m\u001b[39m.\u001b[39mlog\u001b[39m.\u001b[39mwarning(\u001b[39m\"\u001b[39m\u001b[39mInvalid Message:\u001b[39m\u001b[39m\"\u001b[39m, exc_info\u001b[39m=\u001b[39m\u001b[39mTrue\u001b[39;00m)\n",
      "\u001b[1;31mKeyboardInterrupt\u001b[0m: Interrupted by user"
     ]
    }
   ],
   "source": [
    "from selenium import webdriver\n",
    "from selenium.webdriver.common.keys import Keys\n",
    "from selenium.webdriver.common.by import By\n",
    "import pandas as pd\n",
    "import time\n",
    "\n",
    "driver = webdriver.Chrome()\n",
    "\n",
    "driver.get(\"https://www.data.go.kr/\")\n",
    "\n",
    "time.sleep(1)\n",
    "\n",
    "searchValue = input(\"찾으실 공공데이터를 입력하세요: \")\n",
    "\n",
    "searchInput = driver.find_element(by=By.CSS_SELECTOR, value=\".input-text\")\n",
    "searchInput.send_keys(searchValue)\n",
    "searchInput.send_keys(Keys.RETURN)\n",
    "\n",
    "time.sleep(2)\n",
    "\n",
    "driver.find_element(by=By.CSS_SELECTOR, value=\"#dTypeAPI\").click()\n",
    "\n",
    "searchedList = [\n",
    "    {\n",
    "        \"title\", \"\",\n",
    "        \"provide_organization\", \"\",\n",
    "        \"update_date\", \"\",\n",
    "        \"hits\", \"\",\n",
    "        \"request_count\", \"\",\n",
    "        \"keyword\", \"\"\n",
    "    }\n",
    "]\n",
    "bookInfoArticles = driver.find_elements(by=By.CSS_SELECTOR, value=\".result-list > ul > li\")\n",
    "print(bookInfoArticles)\n",
    "# print(bookInfoArticles)\n",
    "\n",
    "# scrollTop = 0\n",
    "# scrolls = 100\n",
    "# while True:\n",
    "#     driver.execute_script(f\"window.scrollTo(0, {scrollTop})\")\n",
    "\n",
    "#     scrollTop += 1000\n",
    "#     time.sleep(0.5)\n",
    "#     if scrollTop > driver.execute_script(\"return document.body.scrollHeight\"):\n",
    "#         break\n",
    "\n",
    "#     for bArticle in bookInfoArticles:\n",
    "#         title = bArticle.find_element(by=By.CSS_SELECTOR, value=\"span[class='title']\").text\n",
    "#         # #apiDataList > div.result-list > ul > li:nth-child(1) > div.info-data > p:nth-child(1) > span.data\n",
    "#         organization = bArticle.find_element(by=By.CSS_SELECTOR, value=f\"div.info-data > p:nth-child({i}) > span.data\").text\n",
    "#         update_date = bArticle.find_element(by=By.CSS_SELECTOR, value=\"\").text\n",
    "#         hits = bArticle.find_element(by=By.CSS_SELECTOR, value=\"\").text\n",
    "#         request_count = bArticle.find_element(by=By.CSS_SELECTOR, value=\"\").text\n",
    "#         # #apiDataList > div.result-list > ul > li:nth-child(1) > div.info-data > p:nth-child(5) > span\n",
    "#         keyword = bArticle.find_element(by=By.CSS_SELECTOR, value=\"\").text\n",
    "#         i += 1\n",
    "\n",
    "\n",
    "\n",
    "# for i in range(2, 4):\n",
    "#     driver.find_element(by=By.XPATH, value=f\"//*[@id='apiDataList']/nav/a[{i}]\").click()"
   ]
  }
 ],
 "metadata": {
  "kernelspec": {
   "display_name": "Python 3",
   "language": "python",
   "name": "python3"
  },
  "language_info": {
   "codemirror_mode": {
    "name": "ipython",
    "version": 3
   },
   "file_extension": ".py",
   "mimetype": "text/x-python",
   "name": "python",
   "nbconvert_exporter": "python",
   "pygments_lexer": "ipython3",
   "version": "3.11.4"
  },
  "orig_nbformat": 4
 },
 "nbformat": 4,
 "nbformat_minor": 2
}
