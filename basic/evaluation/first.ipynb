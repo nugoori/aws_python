{
 "cells": [
  {
   "cell_type": "code",
   "execution_count": 75,
   "metadata": {},
   "outputs": [
    {
     "name": "stdout",
     "output_type": "stream",
     "text": [
      "{'type': '123', 'purpose': '배', 'number': '1234'}\n",
      "{'type': '승용차', 'purpose': '택배용', 'number': '1234'}\n"
     ]
    }
   ],
   "source": [
    "inputValue = input(\"차량 번호를 입력하세요: \")\n",
    "\n",
    "inputCar = {\n",
    "    \"type\": inputValue[:3],\n",
    "    \"purpose\": inputValue[3],\n",
    "    \"number\": inputValue[4:]\n",
    "}\n",
    "\n",
    "carNumberDic = {\n",
    "    \"type\": \"\",\n",
    "    \"purpose\": \"\",\n",
    "    \"number\": inputCar[\"number\"]\n",
    "}\n",
    "\n",
    "purpose = {\n",
    "    \"common\": \n",
    "    [\"가\",\"나\",\"다\",\"라\",\"마\",\"거\",\"너\",\"더\",\"러\",\"머\",\"버\",\"서\",\"어\",\"저\",\"고\",\"노\",\"도\",\"로\",\"모\",\"보\",\"소\",\"오\",\"조\",\"구\",\"누\",\"두\",\"루\",\"무\",\"부\",\"수\",\"우\",\"주\",],\n",
    "    \"taxi\": [\"아\",\"바\",\"사\",\"자\"],\n",
    "    \"deliver\": \"배\",\n",
    "    \"lent\": [\"허\",\"하\",\"호\"]\n",
    "}\n",
    "\n",
    "# 차종 구분\n",
    "if  100 <= int(inputValue[:3]) < 700:\n",
    "    inputCar[\"type\"] = \"승용차\"\n",
    "    carNumberDic[\"type\"] = inputCar[\"type\"]\n",
    "elif 700 <= int(inputValue[:3]) < 800:\n",
    "    inputCar[\"type\"] = \"승합차\"\n",
    "    carNumberDic[\"type\"] = inputCar[\"type\"]\n",
    "elif 700 <= int(inputValue[:3]) < 800:\n",
    "    inputCar[\"type\"] = \"화물차\"\n",
    "    carNumberDic[\"type\"] = inputCar[\"type\"]\n",
    "elif 700 <= int(inputValue[:3]) < 800:\n",
    "    inputCar[\"type\"] = \"특수차\"\n",
    "    carNumberDic[\"type\"] = inputCar[\"type\"]\n",
    "else: \n",
    "    inputCar[\"type\"] = \"긴급차\"\n",
    "    carNumberDic[\"type\"] = inputCar[\"type\"]\n",
    "\n",
    "# 용도 구분\n",
    "if inputValue[3] in purpose.get(\"common\"):\n",
    "    inputCar[\"purpose\"] = \"비상업용\"\n",
    "    carNumberDic[\"purpose\"] = inputCar[\"purpose\"]\n",
    "\n",
    "elif inputValue[3] in purpose.get(\"taxi\"):\n",
    "    inputCar[\"purpose\"] = \"운수사업용\"\n",
    "    carNumberDic[\"purpose\"] = inputCar[\"purpose\"]\n",
    "\n",
    "elif inputValue[3] == purpose.get(\"deliver\"):\n",
    "    inputCar[\"purpose\"] = \"택배용\"\n",
    "    carNumberDic[\"purpose\"] = inputCar[\"purpose\"]\n",
    "\n",
    "elif inputValue[3] in purpose.get(\"lent\"):\n",
    "    inputCar[\"purpose\"] = \"렌터카\"\n",
    "    carNumberDic[\"purpose\"] = inputCar[\"purpose\"]\n",
    "\n",
    "print(carNumberDic)"
   ]
  },
  {
   "cell_type": "code",
   "execution_count": null,
   "metadata": {},
   "outputs": [],
   "source": []
  }
 ],
 "metadata": {
  "kernelspec": {
   "display_name": "Python 3",
   "language": "python",
   "name": "python3"
  },
  "language_info": {
   "codemirror_mode": {
    "name": "ipython",
    "version": 3
   },
   "file_extension": ".py",
   "mimetype": "text/x-python",
   "name": "python",
   "nbconvert_exporter": "python",
   "pygments_lexer": "ipython3",
   "version": "3.11.4"
  },
  "orig_nbformat": 4
 },
 "nbformat": 4,
 "nbformat_minor": 2
}
