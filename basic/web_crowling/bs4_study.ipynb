{
 "cells": [
  {
   "cell_type": "code",
   "execution_count": null,
   "metadata": {},
   "outputs": [],
   "source": [
    "# 웹 크롤링, 웹 스크래핑 ( 정 명칭은 스크래핑인데 통상적으로? 크롤링이라고 합쳐서 부른다? )\n",
    "# 크롤링 -> 전체를 다 가져오는 것\n",
    "# 스크래핑 -> 필요한 부분만 가져오는 것\n",
    "\n",
    "# 정적 크롤링, 동적 크롤링 // 정적 웹 , 동적 웹\n",
    "# 정적 크롤링을 기반으로 라이브러리를 통해 동적 크롤링을 사용? 적용?\n",
    "# 파싱 패키지(라이브러리)\n",
    "# 정적 크롤링 -> beautifulsoup\n",
    "# 동적 크롤링 -> beautifulsoup, selenium을 추가적으로 사용\n",
    "# 준비물 : 크롬!( 크롬 드라이브를 잡아줘야 함 )\n"
   ]
  },
  {
   "cell_type": "code",
   "execution_count": 9,
   "metadata": {},
   "outputs": [
    {
     "name": "stdout",
     "output_type": "stream",
     "text": [
      "쿤달 퍼퓸 디퓨저 200ml 3개 + 섬유스틱 15개 세트, 블랙체리향\n",
      "설화수 New 자음2종, 1세트\n",
      "동원 튜나리챔 선물세트 O-68호 + 부직포백, 1세트\n",
      "넛츠팜 프리미엄 견과 선물세트 4호, 1150g, 1세트\n",
      "이동갈비 소고기 한입 LA양념갈비 선물세트 (냉동), 500g, 4개\n",
      "종근당 침향환 골드, 225g, 1개\n",
      "떡편 감사세트 1호 24개입 (냉동), 1080g, 1세트\n",
      "애경 명화의 품격 O-2호 선물세트, 1세트\n",
      "코멧 깨끗한 천연펄프 키친타월 150매, 8개\n",
      "바디프랜드 레그넘 안마의자 + 러그(랜덤발송) 방문설치, BFK-5000, 오트베이지\n",
      "청정원 행복 2호, 1세트\n",
      "타야스 투바나 초콜렛, 1600g, 1개\n",
      "\n",
      "\n",
      "\n",
      "\n"
     ]
    }
   ],
   "source": [
    "import requests \n",
    "from bs4 import BeautifulSoup as bs\n",
    "\n",
    "url = \"https://pages.coupang.com/p/96636\"\n",
    "\n",
    "response = requests.get(url)\n",
    "\n",
    "html = bs(response.text)\n",
    "# findInfoSectionTitle = html.find(\"span\", class_=\"info_section__title\") # 제일 위에있는 요소 하나만 가져옴\n",
    "findInfoSectionTitle = html.find_all(\"span\", class_=\"info_section__title\")\n",
    "for title in findInfoSectionTitle:\n",
    "    print(title.text)"
   ]
  }
 ],
 "metadata": {
  "kernelspec": {
   "display_name": "Python 3",
   "language": "python",
   "name": "python3"
  },
  "language_info": {
   "codemirror_mode": {
    "name": "ipython",
    "version": 3
   },
   "file_extension": ".py",
   "mimetype": "text/x-python",
   "name": "python",
   "nbconvert_exporter": "python",
   "pygments_lexer": "ipython3",
   "version": "3.11.4"
  },
  "orig_nbformat": 4
 },
 "nbformat": 4,
 "nbformat_minor": 2
}
