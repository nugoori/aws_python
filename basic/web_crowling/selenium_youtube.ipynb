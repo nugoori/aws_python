{
 "cells": [
  {
   "cell_type": "code",
   "execution_count": null,
   "metadata": {},
   "outputs": [],
   "source": [
    "# 검색어[ \"아이폰 15\", \"손흥민\", \"react\", \"야구\"]\n",
    "\n",
    "[\n",
    "    {\n",
    "        \"searchValue\": \"아이폰 15\",\n",
    "        \"data-list\": [\n",
    "            {\n",
    "                \"title\": \"\",\n",
    "                \"hits\": 10,\n",
    "                \"creator\": \"\",\n",
    "                \"description\": \"\",\n",
    "                \"url\": \"\"\n",
    "            }\n",
    "        ]\n",
    "    }\n",
    "]\n",
    "\n",
    "# 갬색한 데이터중 상위의 10개만 가져오기."
   ]
  },
  {
   "cell_type": "code",
   "execution_count": 58,
   "metadata": {},
   "outputs": [
    {
     "name": "stdout",
     "output_type": "stream",
     "text": [
      "[<selenium.webdriver.remote.webelement.WebElement (session=\"18a7419b3cff3c43efdffb94b8351828\", element=\"16D002267F2DF26342FE3136A5A3A229_element_23\")>, <selenium.webdriver.remote.webelement.WebElement (session=\"18a7419b3cff3c43efdffb94b8351828\", element=\"16D002267F2DF26342FE3136A5A3A229_element_24\")>, <selenium.webdriver.remote.webelement.WebElement (session=\"18a7419b3cff3c43efdffb94b8351828\", element=\"16D002267F2DF26342FE3136A5A3A229_element_25\")>, <selenium.webdriver.remote.webelement.WebElement (session=\"18a7419b3cff3c43efdffb94b8351828\", element=\"16D002267F2DF26342FE3136A5A3A229_element_26\")>, <selenium.webdriver.remote.webelement.WebElement (session=\"18a7419b3cff3c43efdffb94b8351828\", element=\"16D002267F2DF26342FE3136A5A3A229_element_27\")>, <selenium.webdriver.remote.webelement.WebElement (session=\"18a7419b3cff3c43efdffb94b8351828\", element=\"16D002267F2DF26342FE3136A5A3A229_element_28\")>, <selenium.webdriver.remote.webelement.WebElement (session=\"18a7419b3cff3c43efdffb94b8351828\", element=\"16D002267F2DF26342FE3136A5A3A229_element_29\")>, <selenium.webdriver.remote.webelement.WebElement (session=\"18a7419b3cff3c43efdffb94b8351828\", element=\"16D002267F2DF26342FE3136A5A3A229_element_30\")>, <selenium.webdriver.remote.webelement.WebElement (session=\"18a7419b3cff3c43efdffb94b8351828\", element=\"16D002267F2DF26342FE3136A5A3A229_element_31\")>, <selenium.webdriver.remote.webelement.WebElement (session=\"18a7419b3cff3c43efdffb94b8351828\", element=\"16D002267F2DF26342FE3136A5A3A229_element_32\")>, <selenium.webdriver.remote.webelement.WebElement (session=\"18a7419b3cff3c43efdffb94b8351828\", element=\"16D002267F2DF26342FE3136A5A3A229_element_33\")>, <selenium.webdriver.remote.webelement.WebElement (session=\"18a7419b3cff3c43efdffb94b8351828\", element=\"16D002267F2DF26342FE3136A5A3A229_element_34\")>, <selenium.webdriver.remote.webelement.WebElement (session=\"18a7419b3cff3c43efdffb94b8351828\", element=\"16D002267F2DF26342FE3136A5A3A229_element_35\")>, <selenium.webdriver.remote.webelement.WebElement (session=\"18a7419b3cff3c43efdffb94b8351828\", element=\"16D002267F2DF26342FE3136A5A3A229_element_36\")>, <selenium.webdriver.remote.webelement.WebElement (session=\"18a7419b3cff3c43efdffb94b8351828\", element=\"16D002267F2DF26342FE3136A5A3A229_element_37\")>, <selenium.webdriver.remote.webelement.WebElement (session=\"18a7419b3cff3c43efdffb94b8351828\", element=\"16D002267F2DF26342FE3136A5A3A229_element_38\")>, <selenium.webdriver.remote.webelement.WebElement (session=\"18a7419b3cff3c43efdffb94b8351828\", element=\"16D002267F2DF26342FE3136A5A3A229_element_39\")>, <selenium.webdriver.remote.webelement.WebElement (session=\"18a7419b3cff3c43efdffb94b8351828\", element=\"16D002267F2DF26342FE3136A5A3A229_element_40\")>, <selenium.webdriver.remote.webelement.WebElement (session=\"18a7419b3cff3c43efdffb94b8351828\", element=\"16D002267F2DF26342FE3136A5A3A229_element_41\")>, <selenium.webdriver.remote.webelement.WebElement (session=\"18a7419b3cff3c43efdffb94b8351828\", element=\"16D002267F2DF26342FE3136A5A3A229_element_42\")>]\n",
      "2:27\n",
      "아이폰15 출시 '빨간불', 조기출시 갤럭시Z5 기대감 ↑ / 머니투데이방송 (뉴스)\n",
      "조회수 4천회\n",
      "1개월 전\n",
      "MTN 머니투데이방송\n",
      "07/24 MTN 핫라인 5 통상 9월에 출시되던 애플 아이폰15 출시에 빨간불이 켜졌습니다. 구체적 이유는 나오지 않았지만, 디스플레이 ...\n"
     ]
    },
    {
     "ename": "NoSuchElementException",
     "evalue": "Message: no such element: Unable to locate element: {\"method\":\"css selector\",\"selector\":\"div[id='dismissable'] yt-formatted-string[class='style-scope ytd-video-renderer']\"}\n  (Session info: chrome=117.0.5938.89)\n",
     "output_type": "error",
     "traceback": [
      "\u001b[1;31m---------------------------------------------------------------------------\u001b[0m",
      "\u001b[1;31mNoSuchElementException\u001b[0m                    Traceback (most recent call last)",
      "\u001b[1;32mc:\\aws\\python\\basic\\web_crowling\\selenium_youtube.ipynb 셀 2\u001b[0m line \u001b[0;36m2\n\u001b[0;32m     <a href='vscode-notebook-cell:/c%3A/aws/python/basic/web_crowling/selenium_youtube.ipynb#W1sZmlsZQ%3D%3D?line=25'>26</a>\u001b[0m \u001b[39mprint\u001b[39m(video\u001b[39m.\u001b[39mtext)\n\u001b[0;32m     <a href='vscode-notebook-cell:/c%3A/aws/python/basic/web_crowling/selenium_youtube.ipynb#W1sZmlsZQ%3D%3D?line=26'>27</a>\u001b[0m \u001b[39m# 왜 위에꺼랑 다른게 들어가는가\u001b[39;00m\n\u001b[1;32m---> <a href='vscode-notebook-cell:/c%3A/aws/python/basic/web_crowling/selenium_youtube.ipynb#W1sZmlsZQ%3D%3D?line=27'>28</a>\u001b[0m vTitle \u001b[39m=\u001b[39m driver\u001b[39m.\u001b[39mfind_element(\n\u001b[0;32m     <a href='vscode-notebook-cell:/c%3A/aws/python/basic/web_crowling/selenium_youtube.ipynb#W1sZmlsZQ%3D%3D?line=28'>29</a>\u001b[0m     by\u001b[39m=\u001b[39mBy\u001b[39m.\u001b[39mCSS_SELECTOR, value\u001b[39m=\u001b[39m\u001b[39m\"\u001b[39m\u001b[39mdiv[id=\u001b[39m\u001b[39m'\u001b[39m\u001b[39mdismissable\u001b[39m\u001b[39m'\u001b[39m\u001b[39m] yt-formatted-string[class=\u001b[39m\u001b[39m'\u001b[39m\u001b[39mstyle-scope ytd-video-renderer\u001b[39m\u001b[39m'\u001b[39m\u001b[39m]\u001b[39m\u001b[39m\"\u001b[39m\n\u001b[0;32m     <a href='vscode-notebook-cell:/c%3A/aws/python/basic/web_crowling/selenium_youtube.ipynb#W1sZmlsZQ%3D%3D?line=29'>30</a>\u001b[0m     )\u001b[39m.\u001b[39mtext\n\u001b[0;32m     <a href='vscode-notebook-cell:/c%3A/aws/python/basic/web_crowling/selenium_youtube.ipynb#W1sZmlsZQ%3D%3D?line=30'>31</a>\u001b[0m vhits \u001b[39m=\u001b[39m driver\u001b[39m.\u001b[39mfind_element(\n\u001b[0;32m     <a href='vscode-notebook-cell:/c%3A/aws/python/basic/web_crowling/selenium_youtube.ipynb#W1sZmlsZQ%3D%3D?line=31'>32</a>\u001b[0m     by\u001b[39m=\u001b[39mBy\u001b[39m.\u001b[39mCSS_SELECTOR, value\u001b[39m=\u001b[39m\u001b[39m\"\u001b[39m\u001b[39mspan[class=\u001b[39m\u001b[39m'\u001b[39m\u001b[39minline-metadata-item style-scope ytd-video-meta-block\u001b[39m\u001b[39m'\u001b[39m\u001b[39m]\u001b[39m\u001b[39m\"\u001b[39m\n\u001b[0;32m     <a href='vscode-notebook-cell:/c%3A/aws/python/basic/web_crowling/selenium_youtube.ipynb#W1sZmlsZQ%3D%3D?line=32'>33</a>\u001b[0m     )\u001b[39m.\u001b[39mtext\n\u001b[0;32m     <a href='vscode-notebook-cell:/c%3A/aws/python/basic/web_crowling/selenium_youtube.ipynb#W1sZmlsZQ%3D%3D?line=33'>34</a>\u001b[0m vCreator \u001b[39m=\u001b[39m driver\u001b[39m.\u001b[39mfind_element(\n\u001b[0;32m     <a href='vscode-notebook-cell:/c%3A/aws/python/basic/web_crowling/selenium_youtube.ipynb#W1sZmlsZQ%3D%3D?line=34'>35</a>\u001b[0m     by\u001b[39m=\u001b[39mBy\u001b[39m.\u001b[39mCSS_SELECTOR, value\u001b[39m=\u001b[39m\u001b[39m\"\u001b[39m\u001b[39ma[class=\u001b[39m\u001b[39m'\u001b[39m\u001b[39myt-simple-endpoint style-scope yt-formatted-string\u001b[39m\u001b[39m'\u001b[39m\u001b[39m]\u001b[39m\u001b[39m\"\u001b[39m\n\u001b[0;32m     <a href='vscode-notebook-cell:/c%3A/aws/python/basic/web_crowling/selenium_youtube.ipynb#W1sZmlsZQ%3D%3D?line=35'>36</a>\u001b[0m     )\u001b[39m.\u001b[39mtext\n",
      "File \u001b[1;32mc:\\Users\\ITPS\\anaconda3\\Lib\\site-packages\\selenium\\webdriver\\remote\\webdriver.py:976\u001b[0m, in \u001b[0;36mWebDriver.find_element\u001b[1;34m(self, by, value)\u001b[0m\n\u001b[0;32m    974\u001b[0m         by \u001b[39m=\u001b[39m By\u001b[39m.\u001b[39mCSS_SELECTOR\n\u001b[0;32m    975\u001b[0m         value \u001b[39m=\u001b[39m \u001b[39m'\u001b[39m\u001b[39m[name=\u001b[39m\u001b[39m\"\u001b[39m\u001b[39m%s\u001b[39;00m\u001b[39m\"\u001b[39m\u001b[39m]\u001b[39m\u001b[39m'\u001b[39m \u001b[39m%\u001b[39m value\n\u001b[1;32m--> 976\u001b[0m \u001b[39mreturn\u001b[39;00m \u001b[39mself\u001b[39m\u001b[39m.\u001b[39mexecute(Command\u001b[39m.\u001b[39mFIND_ELEMENT, {\n\u001b[0;32m    977\u001b[0m     \u001b[39m'\u001b[39m\u001b[39musing\u001b[39m\u001b[39m'\u001b[39m: by,\n\u001b[0;32m    978\u001b[0m     \u001b[39m'\u001b[39m\u001b[39mvalue\u001b[39m\u001b[39m'\u001b[39m: value})[\u001b[39m'\u001b[39m\u001b[39mvalue\u001b[39m\u001b[39m'\u001b[39m]\n",
      "File \u001b[1;32mc:\\Users\\ITPS\\anaconda3\\Lib\\site-packages\\selenium\\webdriver\\remote\\webdriver.py:321\u001b[0m, in \u001b[0;36mWebDriver.execute\u001b[1;34m(self, driver_command, params)\u001b[0m\n\u001b[0;32m    319\u001b[0m response \u001b[39m=\u001b[39m \u001b[39mself\u001b[39m\u001b[39m.\u001b[39mcommand_executor\u001b[39m.\u001b[39mexecute(driver_command, params)\n\u001b[0;32m    320\u001b[0m \u001b[39mif\u001b[39;00m response:\n\u001b[1;32m--> 321\u001b[0m     \u001b[39mself\u001b[39m\u001b[39m.\u001b[39merror_handler\u001b[39m.\u001b[39mcheck_response(response)\n\u001b[0;32m    322\u001b[0m     response[\u001b[39m'\u001b[39m\u001b[39mvalue\u001b[39m\u001b[39m'\u001b[39m] \u001b[39m=\u001b[39m \u001b[39mself\u001b[39m\u001b[39m.\u001b[39m_unwrap_value(\n\u001b[0;32m    323\u001b[0m         response\u001b[39m.\u001b[39mget(\u001b[39m'\u001b[39m\u001b[39mvalue\u001b[39m\u001b[39m'\u001b[39m, \u001b[39mNone\u001b[39;00m))\n\u001b[0;32m    324\u001b[0m     \u001b[39mreturn\u001b[39;00m response\n",
      "File \u001b[1;32mc:\\Users\\ITPS\\anaconda3\\Lib\\site-packages\\selenium\\webdriver\\remote\\errorhandler.py:242\u001b[0m, in \u001b[0;36mErrorHandler.check_response\u001b[1;34m(self, response)\u001b[0m\n\u001b[0;32m    240\u001b[0m         alert_text \u001b[39m=\u001b[39m value[\u001b[39m'\u001b[39m\u001b[39malert\u001b[39m\u001b[39m'\u001b[39m]\u001b[39m.\u001b[39mget(\u001b[39m'\u001b[39m\u001b[39mtext\u001b[39m\u001b[39m'\u001b[39m)\n\u001b[0;32m    241\u001b[0m     \u001b[39mraise\u001b[39;00m exception_class(message, screen, stacktrace, alert_text)\n\u001b[1;32m--> 242\u001b[0m \u001b[39mraise\u001b[39;00m exception_class(message, screen, stacktrace)\n",
      "\u001b[1;31mNoSuchElementException\u001b[0m: Message: no such element: Unable to locate element: {\"method\":\"css selector\",\"selector\":\"div[id='dismissable'] yt-formatted-string[class='style-scope ytd-video-renderer']\"}\n  (Session info: chrome=117.0.5938.89)\n"
     ]
    }
   ],
   "source": [
    "from selenium import webdriver\n",
    "from selenium.webdriver.common.keys import Keys\n",
    "from selenium.webdriver.common.by import By\n",
    "import time\n",
    "\n",
    "driver = webdriver.Chrome()\n",
    "\n",
    "driver.get(\"https://www.youtube.com\")\n",
    "\n",
    "time.sleep(1)\n",
    "\n",
    "searchValue = input(\"검색어를 입력하세요\")\n",
    "\n",
    "searchInput = driver.find_element(by=By.CSS_SELECTOR, value=\"input[name='search_query']\")\n",
    "searchInput.send_keys(searchValue)\n",
    "searchInput.send_keys(Keys.RETURN)\n",
    "time.sleep(2)\n",
    "\n",
    "# #contents는 먹는데 검색결과로 안나옴d\n",
    "videoList = driver.find_elements(\n",
    "    by=By.CSS_SELECTOR, value=\"ytd-video-renderer[class='style-scope ytd-item-section-renderer']\")\n",
    "print(videoList)\n",
    "\n",
    "itemList = []\n",
    "for video in videoList:\n",
    "    print(video.text)\n",
    "    # 왜 위에꺼랑 다른게 들어가는가\n",
    "    vTitle = driver.find_element(\n",
    "        by=By.CSS_SELECTOR, value=\"yt-formatted-string[class='style-scope ytd-video-renderer']\"\n",
    "        ).text\n",
    "    vhits = driver.find_element(\n",
    "        by=By.CSS_SELECTOR, value=\"span[class='inline-metadata-item style-scope ytd-video-meta-block']\"\n",
    "        ).text\n",
    "    vCreator = driver.find_element(\n",
    "        by=By.CSS_SELECTOR, value=\"a[class='yt-simple-endpoint style-scope yt-formatted-string']\"\n",
    "        ).text\n",
    "    vDescription = driver.find_element(\n",
    "        by=By.CSS_SELECTOR, value=\"span[class='style-scope yt-formatted-string']\"\n",
    "        ).text\n",
    "    url = driver.find_element(\n",
    "        by=By.CSS_SELECTOR, value=\"img[class='yt-core-image--fill-parent-height yt-core-image--fill-parent-width yt-core-image yt-core-image--content-mode-scale-aspect-fill yt-core-image--loaded']\"\n",
    "        ).get_attribute(name=\"href\")\n",
    "\n",
    "    videoItem = {\n",
    "        \"title\": vTitle,\n",
    "        \"hits\": vhits,\n",
    "        \"creator\": vCreator,\n",
    "        \"dsecription\": vDescription,\n",
    "        \"url\": url\n",
    "    }\n",
    "\n",
    "    itemList.append(videoItem)\n",
    "    print(itemList)\n",
    "\n",
    "\n",
    "# searchList = [\"아이폰 15\", \"손흥민\", \"react\", \"야구\"]\n"
   ]
  },
  {
   "cell_type": "code",
   "execution_count": null,
   "metadata": {},
   "outputs": [],
   "source": []
  }
 ],
 "metadata": {
  "kernelspec": {
   "display_name": "Python 3",
   "language": "python",
   "name": "python3"
  },
  "language_info": {
   "codemirror_mode": {
    "name": "ipython",
    "version": 3
   },
   "file_extension": ".py",
   "mimetype": "text/x-python",
   "name": "python",
   "nbconvert_exporter": "python",
   "pygments_lexer": "ipython3",
   "version": "3.11.4"
  },
  "orig_nbformat": 4
 },
 "nbformat": 4,
 "nbformat_minor": 2
}
